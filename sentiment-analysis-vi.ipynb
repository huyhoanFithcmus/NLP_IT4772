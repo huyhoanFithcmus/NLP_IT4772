{
 "cells": [
  {
   "cell_type": "code",
   "execution_count": 2,
   "metadata": {
    "_cell_guid": "b1076dfc-b9ad-4769-8c92-a6c4dae69d19",
    "_uuid": "8f2839f25d086af736a60e9eeb907d3b93b6e0e5"
   },
   "outputs": [],
   "source": [
    "import os\n",
    "import sys\n",
    "import time\n",
    "import datetime\n",
    "import math\n",
    "\n",
    "import numpy as np\n",
    "import pandas as pd\n",
    "from tqdm import tqdm\n",
    "\n",
    "from sklearn.model_selection import train_test_split\n",
    "from sklearn.metrics import f1_score\n",
    "import tensorflow as tf\n",
    "\n",
    "# Enable Eager Execution\n",
    "#tf.enable_eager_execution()\n",
    "#tf.executing_eagerly() \n",
    "\n",
    "import warnings\n",
    "warnings.filterwarnings(\"ignore\")"
   ]
  },
  {
   "cell_type": "code",
   "execution_count": 2,
   "metadata": {},
   "outputs": [],
   "source": [
    "### Tải dữ liệu lên"
   ]
  },
  {
   "cell_type": "code",
   "execution_count": 3,
   "metadata": {},
   "outputs": [
    {
     "data": {
      "text/html": [
       "<div>\n",
       "<style scoped>\n",
       "    .dataframe tbody tr th:only-of-type {\n",
       "        vertical-align: middle;\n",
       "    }\n",
       "\n",
       "    .dataframe tbody tr th {\n",
       "        vertical-align: top;\n",
       "    }\n",
       "\n",
       "    .dataframe thead th {\n",
       "        text-align: right;\n",
       "    }\n",
       "</style>\n",
       "<table border=\"1\" class=\"dataframe\">\n",
       "  <thead>\n",
       "    <tr style=\"text-align: right;\">\n",
       "      <th></th>\n",
       "      <th>id</th>\n",
       "      <th>text</th>\n",
       "      <th>class</th>\n",
       "    </tr>\n",
       "  </thead>\n",
       "  <tbody>\n",
       "    <tr>\n",
       "      <th>0</th>\n",
       "      <td>dee6dfc5</td>\n",
       "      <td>Đến quán 2 lần thôi , rất là thích !\\nQuán tuy nằm trong hẻm nhưng rất dễ tìm , quán rộng_rãi thoáng mát sạch_sẽ .\\nNhân_viên phục_vụ nhiệt_tình , siêu dễ_thương .\\nThực_đơn phong_phú đa_dạng , giá siêu rẻ .\\nThức_ăn nêm nếm hợp_khẩu vị , ngon_miệng .\\nDesert ngọt vừa , không quá ngấy , rất ngon .\\nTrà sữa , uyên_ương thơm và đúng vị mình đã từng uống ở HongKong .\\nNói_chung điểm 10 cho chất_lượng , thích quán lắm !</td>\n",
       "      <td>1</td>\n",
       "    </tr>\n",
       "    <tr>\n",
       "      <th>1</th>\n",
       "      <td>800813f5</td>\n",
       "      <td>Đến quán vào tối chủ_nhật . Có band hát . Khá ổn . Tuy_nhiên không_gian tầng 1 hơi hẹp . Ngồi cả ra vỉa_hè . Đồ uống ko ngon lămz</td>\n",
       "      <td>0</td>\n",
       "    </tr>\n",
       "    <tr>\n",
       "      <th>2</th>\n",
       "      <td>6553e47f</td>\n",
       "      <td>Phục_vụ lâu quá mặc_dù khách rất vắng .\\nĐợi gần 15p mới mang được ly cà_phê ra . Ông này chỉ khéo quảng_bá chứ với mình chắc không quay lại_nữa .</td>\n",
       "      <td>0</td>\n",
       "    </tr>\n",
       "    <tr>\n",
       "      <th>3</th>\n",
       "      <td>b45a1ff1</td>\n",
       "      <td>Ko gian bé_tí , quán chật_chội , đông người nên phục_vụ chưa tốt . Đồ uống bình_thường ( đặc_biệt khi so với giá_cả ) và ko có gì đặc_sắc cả .</td>\n",
       "      <td>0</td>\n",
       "    </tr>\n",
       "    <tr>\n",
       "      <th>4</th>\n",
       "      <td>f92694b0</td>\n",
       "      <td>Khi mình order , đặt bánh thì nhận được sự tiếp_đãi , tư_vấn và nói_chuyện rất gần_gũi , rất nhiệt_tình .\\nBánh thì rất tuyệt , nhân béo , rau_câu không dùng phẩm . Sau_này có dịp sinh_nhật , mình sẽ order mẫu lớn .\\nChúc các bạn làm_ăn phát_đạt !</td>\n",
       "      <td>1</td>\n",
       "    </tr>\n",
       "  </tbody>\n",
       "</table>\n",
       "</div>"
      ],
      "text/plain": [
       "         id  \\\n",
       "0  dee6dfc5   \n",
       "1  800813f5   \n",
       "2  6553e47f   \n",
       "3  b45a1ff1   \n",
       "4  f92694b0   \n",
       "\n",
       "                                                                                                                                                                                                                                                                                                                                                                                                                                  text  \\\n",
       "0  Đến quán 2 lần thôi , rất là thích !\\nQuán tuy nằm trong hẻm nhưng rất dễ tìm , quán rộng_rãi thoáng mát sạch_sẽ .\\nNhân_viên phục_vụ nhiệt_tình , siêu dễ_thương .\\nThực_đơn phong_phú đa_dạng , giá siêu rẻ .\\nThức_ăn nêm nếm hợp_khẩu vị , ngon_miệng .\\nDesert ngọt vừa , không quá ngấy , rất ngon .\\nTrà sữa , uyên_ương thơm và đúng vị mình đã từng uống ở HongKong .\\nNói_chung điểm 10 cho chất_lượng , thích quán lắm !   \n",
       "1                                                                                                                                                                                                                                                                                                    Đến quán vào tối chủ_nhật . Có band hát . Khá ổn . Tuy_nhiên không_gian tầng 1 hơi hẹp . Ngồi cả ra vỉa_hè . Đồ uống ko ngon lămz   \n",
       "2                                                                                                                                                                                                                                                                                   Phục_vụ lâu quá mặc_dù khách rất vắng .\\nĐợi gần 15p mới mang được ly cà_phê ra . Ông này chỉ khéo quảng_bá chứ với mình chắc không quay lại_nữa .   \n",
       "3                                                                                                                                                                                                                                                                                       Ko gian bé_tí , quán chật_chội , đông người nên phục_vụ chưa tốt . Đồ uống bình_thường ( đặc_biệt khi so với giá_cả ) và ko có gì đặc_sắc cả .   \n",
       "4                                                                                                                                                                              Khi mình order , đặt bánh thì nhận được sự tiếp_đãi , tư_vấn và nói_chuyện rất gần_gũi , rất nhiệt_tình .\\nBánh thì rất tuyệt , nhân béo , rau_câu không dùng phẩm . Sau_này có dịp sinh_nhật , mình sẽ order mẫu lớn .\\nChúc các bạn làm_ăn phát_đạt !   \n",
       "\n",
       "   class  \n",
       "0      1  \n",
       "1      0  \n",
       "2      0  \n",
       "3      0  \n",
       "4      1  "
      ]
     },
     "execution_count": 3,
     "metadata": {},
     "output_type": "execute_result"
    }
   ],
   "source": [
    "pd.options.display.max_colwidth=1000\n",
    "train_df = pd.read_csv('data/train.csv')\n",
    "train_df.head()"
   ]
  },
  {
   "cell_type": "code",
   "execution_count": 4,
   "metadata": {},
   "outputs": [
    {
     "name": "stdout",
     "output_type": "stream",
     "text": [
      "67022\n"
     ]
    }
   ],
   "source": [
    "print(len(train_df))"
   ]
  },
  {
   "cell_type": "code",
   "execution_count": 4,
   "metadata": {},
   "outputs": [
    {
     "data": {
      "text/html": [
       "<div>\n",
       "<style scoped>\n",
       "    .dataframe tbody tr th:only-of-type {\n",
       "        vertical-align: middle;\n",
       "    }\n",
       "\n",
       "    .dataframe tbody tr th {\n",
       "        vertical-align: top;\n",
       "    }\n",
       "\n",
       "    .dataframe thead th {\n",
       "        text-align: right;\n",
       "    }\n",
       "</style>\n",
       "<table border=\"1\" class=\"dataframe\">\n",
       "  <thead>\n",
       "    <tr style=\"text-align: right;\">\n",
       "      <th></th>\n",
       "      <th>id</th>\n",
       "      <th>text</th>\n",
       "    </tr>\n",
       "  </thead>\n",
       "  <tbody>\n",
       "    <tr>\n",
       "      <th>0</th>\n",
       "      <td>2017ec48</td>\n",
       "      <td>Mình kêu 6 loại khác nhau , mỗi laoij 1 cục mà ăn cái nào cũng như nhau , cứ như đang ăn 1 loại vậy . Cuối cùng ngon nhất lại là cục khoai môn chiên . Mấy loại há cảo xíu mại bánh xẹp ăn ngán cực kỳ , mà làm cục to tổ bố để ép khách mua với cái giá 19k . Ko hiểu ăn được cái gì ở đây mà có người khen ngon</td>\n",
       "    </tr>\n",
       "    <tr>\n",
       "      <th>1</th>\n",
       "      <td>e3f0ea32</td>\n",
       "      <td>Ăn ở đây từ trc khi chủ nhà xây nhà mới .   chất lg ko đổi còn giá có tăng từ từ 1-2k : ) )\\r\\nphần mìh kiu là 2 thường 2 trứng 22k - hơi no tẹo và CỰC KÌ NGONNN &gt;   &lt;\\r\\nđi vạn kiếp rẽ vào hẻm có biển hoa đàm ni tự và đi chừng 50m là tới , vì hẻm 2m nên để xe bên ngoài dọc theo 2 dãy nhà , chú chủ sẽ sắp xếp xe lại nhưng mình khuyến khích các b mua về : ) )   ăn tại chỗ thì bàn ghế sạch sẽ , ly uống nước là loại dùng 1 lần - &gt; kết điểm này ! ! !\\r\\nphục vụ của 2 vk ck chủ thì miễn bàn , cực kì thân thiện . dạo này có 1 cô nữa phụ bán nhưng ko dc lanh lẹ lắm .\\r\\n* quán chỉ bán buổi sáng tới chừng 9-10g là hết . lâu lâu thì 11g .\\r\\n* hành phi tự làm ngon và giòn lắm nhé ^ ^ còn bánh cuốn thì gọi tới đâu làm tới đó , ko qá lâu và bánh còn ấm .</td>\n",
       "    </tr>\n",
       "    <tr>\n",
       "      <th>2</th>\n",
       "      <td>8743eae3</td>\n",
       "      <td>Các bạn đến ăn ngay và luôn đi nhé ! !\\r\\nMình từ trước giờ chỉ Súp cua Súp óc heo làm tới , từ khi tới quán , mình đã biết thêm nhiều loại khác ( rong biển , hến , thập cẩm , . . mới đây còn có thêm súp còi điệp ) . Không chỉ có súp không âu nha , nhìn menu mà món nào cũng muôn ăn ... Ah , bánh Flan trà xanh cực ngon luôn , món khoái khẩu của mình ấy ... Mình không có thói quen chộp hình thức ăn trước khi ăn , nên các bạn đến ngay SÚP SÀI GÒN Q4 và cảm nhận nhé ^ ^</td>\n",
       "    </tr>\n",
       "    <tr>\n",
       "      <th>3</th>\n",
       "      <td>7b554248</td>\n",
       "      <td>Đây gần như quán ruột của mình luôn : ) ) đây đồ ăn ngon , nhân viên dễ thương , mấy anh giữ xe phía ngoài cũng dễ thương ko kém : ) ) giá cả thì hợp lý khỏi bàn luôn rồi . Đây là 3 món ruột , lần nào đến cũng phải ăn : ) ) ) hahaaa</td>\n",
       "    </tr>\n",
       "    <tr>\n",
       "      <th>4</th>\n",
       "      <td>bedd1403</td>\n",
       "      <td>Tiếc là 25 năm sống ở Tây Ninh thì đây là lần đầu tiên mình ghé .\\r\\nThức ăn rất Việt Nam , ngon và vị tuyệt vời , giá hợp lý .\\r\\nKhuyết điểm :\\r\\nGiờ cơm trưa quán đắc nên đợi rất lâu ,\\r\\nMình quên giử số điện thoại để đặt chổ và thức ăn trước , a e ai ghé thì thêm vào giúp .\\r\\nHơi nóng , và chắc vì quán đông quá nên phần mỷ quan có điễm trừ ,</td>\n",
       "    </tr>\n",
       "  </tbody>\n",
       "</table>\n",
       "</div>"
      ],
      "text/plain": [
       "         id  \\\n",
       "0  2017ec48   \n",
       "1  e3f0ea32   \n",
       "2  8743eae3   \n",
       "3  7b554248   \n",
       "4  bedd1403   \n",
       "\n",
       "                                                                                                                                                                                                                                                                                                                                                                                                                                                                                                                                                                                                                                                                                                                                                                                text  \n",
       "0                                                                                                                                                                                                                                                                                                                                                                                                                                                                  Mình kêu 6 loại khác nhau , mỗi laoij 1 cục mà ăn cái nào cũng như nhau , cứ như đang ăn 1 loại vậy . Cuối cùng ngon nhất lại là cục khoai môn chiên . Mấy loại há cảo xíu mại bánh xẹp ăn ngán cực kỳ , mà làm cục to tổ bố để ép khách mua với cái giá 19k . Ko hiểu ăn được cái gì ở đây mà có người khen ngon  \n",
       "1  Ăn ở đây từ trc khi chủ nhà xây nhà mới .   chất lg ko đổi còn giá có tăng từ từ 1-2k : ) )\\r\\nphần mìh kiu là 2 thường 2 trứng 22k - hơi no tẹo và CỰC KÌ NGONNN >   <\\r\\nđi vạn kiếp rẽ vào hẻm có biển hoa đàm ni tự và đi chừng 50m là tới , vì hẻm 2m nên để xe bên ngoài dọc theo 2 dãy nhà , chú chủ sẽ sắp xếp xe lại nhưng mình khuyến khích các b mua về : ) )   ăn tại chỗ thì bàn ghế sạch sẽ , ly uống nước là loại dùng 1 lần - > kết điểm này ! ! !\\r\\nphục vụ của 2 vk ck chủ thì miễn bàn , cực kì thân thiện . dạo này có 1 cô nữa phụ bán nhưng ko dc lanh lẹ lắm .\\r\\n* quán chỉ bán buổi sáng tới chừng 9-10g là hết . lâu lâu thì 11g .\\r\\n* hành phi tự làm ngon và giòn lắm nhé ^ ^ còn bánh cuốn thì gọi tới đâu làm tới đó , ko qá lâu và bánh còn ấm .  \n",
       "2                                                                                                                                                                                                                                                                                             Các bạn đến ăn ngay và luôn đi nhé ! !\\r\\nMình từ trước giờ chỉ Súp cua Súp óc heo làm tới , từ khi tới quán , mình đã biết thêm nhiều loại khác ( rong biển , hến , thập cẩm , . . mới đây còn có thêm súp còi điệp ) . Không chỉ có súp không âu nha , nhìn menu mà món nào cũng muôn ăn ... Ah , bánh Flan trà xanh cực ngon luôn , món khoái khẩu của mình ấy ... Mình không có thói quen chộp hình thức ăn trước khi ăn , nên các bạn đến ngay SÚP SÀI GÒN Q4 và cảm nhận nhé ^ ^  \n",
       "3                                                                                                                                                                                                                                                                                                                                                                                                                                                                                                                                           Đây gần như quán ruột của mình luôn : ) ) đây đồ ăn ngon , nhân viên dễ thương , mấy anh giữ xe phía ngoài cũng dễ thương ko kém : ) ) giá cả thì hợp lý khỏi bàn luôn rồi . Đây là 3 món ruột , lần nào đến cũng phải ăn : ) ) ) hahaaa  \n",
       "4                                                                                                                                                                                                                                                                                                                                                                                                                      Tiếc là 25 năm sống ở Tây Ninh thì đây là lần đầu tiên mình ghé .\\r\\nThức ăn rất Việt Nam , ngon và vị tuyệt vời , giá hợp lý .\\r\\nKhuyết điểm :\\r\\nGiờ cơm trưa quán đắc nên đợi rất lâu ,\\r\\nMình quên giử số điện thoại để đặt chổ và thức ăn trước , a e ai ghé thì thêm vào giúp .\\r\\nHơi nóng , và chắc vì quán đông quá nên phần mỷ quan có điễm trừ ,  "
      ]
     },
     "execution_count": 4,
     "metadata": {},
     "output_type": "execute_result"
    }
   ],
   "source": [
    "test_df = pd.read_csv('../input/test.csv')\n",
    "test_df.head()"
   ]
  },
  {
   "cell_type": "code",
   "execution_count": 6,
   "metadata": {},
   "outputs": [
    {
     "name": "stdout",
     "output_type": "stream",
     "text": [
      "Prunned vocabulary loaded!\n",
      "Word embedding matrix loaded!\n"
     ]
    }
   ],
   "source": [
    "words_list = np.load('../input/words_list.npy')\n",
    "print('Prunned vocabulary loaded!')\n",
    "words_list = words_list.tolist()\n",
    "word_vectors = np.load('../input/word_vectors.npy')\n",
    "word_vectors = np.float32(word_vectors)\n",
    "print ('Word embedding matrix loaded!')"
   ]
  },
  {
   "cell_type": "code",
   "execution_count": 7,
   "metadata": {
    "_cell_guid": "79c7e3d0-c299-4dcb-8224-4455121ee9b0",
    "_uuid": "d629ff2d2480ee46fbb7e2d37f6b5fab8052498a"
   },
   "outputs": [],
   "source": [
    "train_ids = np.load('../input/train_ids.npy')"
   ]
  },
  {
   "cell_type": "code",
   "execution_count": 8,
   "metadata": {},
   "outputs": [],
   "source": [
    "train_x, test_validation_x, train_y, test_validation_y  = train_test_split(train_ids, train_df['class'], test_size=0.2, random_state=2019)\n",
    "validation_x, test_x, validation_y, test_y = train_test_split(test_validation_x, test_validation_y, test_size=0.5, random_state=2018)"
   ]
  },
  {
   "cell_type": "code",
   "execution_count": 9,
   "metadata": {},
   "outputs": [],
   "source": [
    "BATCH_SIZE = 256"
   ]
  },
  {
   "cell_type": "code",
   "execution_count": 10,
   "metadata": {},
   "outputs": [],
   "source": [
    "train_dataset = tf.data.Dataset.from_tensor_slices((train_x, train_y)) # train_x, train_y\n",
    "validation_dataset = tf.data.Dataset.from_tensor_slices((validation_x, validation_y)) # validation_x, validation_y\n",
    "test_dataset = tf.data.Dataset.from_tensor_slices((test_x, test_y)) # test_x, test_y\n",
    "\n",
    "train_dataset = train_dataset.batch(BATCH_SIZE)\n",
    "validation_dataset = validation_dataset.batch(BATCH_SIZE)\n",
    "test_dataset = test_dataset.batch(BATCH_SIZE)"
   ]
  },
  {
   "cell_type": "code",
   "execution_count": 11,
   "metadata": {},
   "outputs": [
    {
     "name": "stdout",
     "output_type": "stream",
     "text": [
      "FIRST BATCH:\n",
      "X = tf.Tensor(\n",
      "[[12844  5596  4884 ...     0     0     0]\n",
      " [10774 16521 13952 ...     0     0     0]\n",
      " [ 7446 10698 10774 ...     0     0     0]\n",
      " ...\n",
      " [ 4884 16995  4601 ...     0     0     0]\n",
      " [ 3913 15085 14017 ...     0     0     0]\n",
      " [ 4788 14598   310 ...     0     0     0]], shape=(256, 200), dtype=int32)\n",
      "y = tf.Tensor(\n",
      "[0 0 1 0 0 1 1 0 0 1 1 1 0 0 1 1 1 0 0 0 1 1 1 0 0 1 0 1 1 0 0 1 0 0 1 1 0\n",
      " 0 0 1 0 1 1 1 0 0 0 1 0 1 1 0 1 1 0 0 1 1 0 1 0 0 1 0 0 1 1 1 0 1 0 1 0 0\n",
      " 0 1 1 0 1 1 1 0 1 0 0 1 0 0 1 1 0 1 1 0 0 0 1 0 1 0 1 1 1 0 0 1 0 0 1 1 1\n",
      " 0 1 1 0 1 0 0 0 1 1 0 1 1 1 0 1 0 1 0 0 0 0 0 0 1 0 0 1 1 0 1 1 1 1 1 1 1\n",
      " 0 0 0 0 0 0 1 1 1 1 0 0 0 1 1 0 1 1 1 1 1 1 0 1 0 1 1 0 0 1 1 1 1 1 0 0 0\n",
      " 0 0 0 0 0 0 1 0 0 0 0 0 1 0 0 0 0 0 1 1 0 1 1 0 0 0 0 0 1 0 0 0 0 1 1 1 0\n",
      " 1 0 1 0 1 0 1 0 0 0 0 0 0 1 0 1 0 0 0 0 0 1 1 0 0 1 0 0 1 1 1 0 1 1], shape=(256,), dtype=int32)\n",
      "Total:  84\n"
     ]
    }
   ],
   "source": [
    "for idx, (x,y) in enumerate(train_dataset):\n",
    "    if idx == 0:\n",
    "        print('FIRST BATCH:')\n",
    "        print('X =',x)\n",
    "        print('y =',y)\n",
    "print(\"Total: \", idx)"
   ]
  },
  {
   "cell_type": "code",
   "execution_count": 12,
   "metadata": {},
   "outputs": [],
   "source": [
    "class SentimentAnalysisModel(tf.keras.Model):\n",
    "    \"\"\"\n",
    "    Mô hình phân tích cảm xúc của câu\n",
    "    \n",
    "    Properties\n",
    "    ----------\n",
    "    word2vec: numpy.array\n",
    "        word vectors \n",
    "    lstm_layers: list\n",
    "        list of lstm layers, lstm cuối cùng sẽ chỉ trả về output của lstm cuối cùng\n",
    "    dropout_layers: list\n",
    "        list of dropout layers\n",
    "    dense_layer: Keras Dense Layer\n",
    "        lớp dense layer cuối cùng nhận input từ lstm, \n",
    "        đưa ra output bằng số lượng class thông qua hàm softmax\n",
    "    \"\"\"\n",
    "    def __init__(self, word2vec, lstm_units, n_layers, num_classes, dropout_rate=0.25):\n",
    "        \"\"\"\n",
    "        Khởi tạo mô hình\n",
    "        \n",
    "        Paramters\n",
    "        ---------\n",
    "        word2vec: numpy.array\n",
    "            word vectors \n",
    "        lstm_units: int\n",
    "            số đơn vị lstm\n",
    "        n_layers: int\n",
    "            số layer lstm xếp chồng lên nhau\n",
    "        num_classes: int\n",
    "            số class đầu ra\n",
    "        dropout_rate: float\n",
    "            tỉ lệ dropout giữa các lớp\n",
    "        \"\"\"\n",
    "        super().__init__(name='sentiment_analysis')\n",
    "        \n",
    "        # Khởi tạo các đặc tính của model\n",
    "        self.word2vec = word2vec\n",
    "        \n",
    "        self.lstm_layers = []  # List chứa các tầng LSTM\n",
    "        self.dropout_layers = []  # List chứa các tầng dropout\n",
    "\n",
    "        ### TODO 3.1\n",
    "        # Vòng lặp dưới chạy qua N tầng trong stack\n",
    "        # mỗi tầng sẽ có 1 lstm_layer và 1 dropout_layer\n",
    "        # \n",
    "        # Khởi tạo lstm_layer (GPU) với các tham biến sau:\n",
    "        # lstm_layer(units=..., return_sequences=[True/False])\n",
    "        # Tham khảo: https://keras.io/layers/recurrent/#cudnnlstm\n",
    "        #\n",
    "        # Khởi tạo lstm_layer (CPU) với các tham biến sau:\n",
    "        # lstm_layer(units=..., return_sequences=[True/False])\n",
    "        # Tham khảo: https://www.tensorflow.org/api_docs/python/tf/keras/layers/LSTM\n",
    "        # \n",
    "        # LƯU Ý:\n",
    "        # return_sequence của lstm_layer nhận giá trị True ở mọi tầng  \n",
    "        # trong stack, ngoại trừ tầng cuối cùngg\n",
    "        #\n",
    "        # Khởi tạo dropout_layer với các tham biến sau:\n",
    "        # new_dropout = tf.keras.layers.Dropout(rate=...)\n",
    "        # Tham khảo: https://www.tensorflow.org/api_docs/python/tf/keras/layers/Dropout\n",
    "        # \n",
    "        # Sau khi khởi tạo lstm_layer và dropout_layer\n",
    "        # hãy thêm chúng vào 2 list tương ứng\n",
    "        # self.lstm_layers và self.dropout_layers\n",
    "        #\n",
    "        # Cuối cùng, khởi tạo tầng fully-connected/dense\n",
    "        # tf.keras.layers.Dense(num_classes=..., activation=' ')\n",
    "        # Tham khảo: https://www.tensorflow.org/api_docs/python/tf/keras/layers/Dense\n",
    "        #\n",
    "        ### START CODE HERE\n",
    "        \n",
    "        for i in range(n_layers):\n",
    "            new_lstm = tf.keras.layers.LSTM(units=lstm_units, return_sequences=True)\n",
    "            self.lstm_layers.append(new_lstm)\n",
    "            new_dropout = tf.keras.layers.Dropout(rate=dropout_rate)\n",
    "            self.dropout_layers.append(new_dropout)\n",
    "          \n",
    "        #Tầng cuối cùng  \n",
    "        new_lstm = tf.keras.layers.LSTM(units=lstm_units, return_sequences=False)\n",
    "        self.lstm_layers.append(new_lstm)\n",
    "        \n",
    "        self.dense_layer = tf.keras.layers.Dense(num_classes, activation=\"softmax\")\n",
    "        ### END CODE HERE\n",
    "        \n",
    "    def call(self, inputs):\n",
    "        ### TODO 3.2\n",
    "        # Thực hiện các bước biến đổi khi truyền thuận input qua mạng\n",
    "        # Điền code vào các đoạn pass\n",
    "        ### START CODE HERE\n",
    "        inputs = tf.cast(inputs, tf.int32)\n",
    "        # Input hiện là indices, cần chuyển sang dạng vector\n",
    "        # sử dụng:\n",
    "        # tf.nn.embeddings_lookup(embeddings, indices)\n",
    "        \n",
    "        x = tf.nn.embedding_lookup(self.word2vec, inputs)\n",
    "      \n",
    "        # Truyền thuận inputs lần lượt qua các tầng\n",
    "        # ở mỗi tầng, truyền input qua các layer: lstm > dropout\n",
    "        # vd: x = first_lstm(x)\n",
    "        #     x = first_dropout(x)\n",
    "        #     x = second_lstm(x)\n",
    "        #     v.v.\n",
    "        n_layers = len(self.dropout_layers)\n",
    "        \n",
    "        for i in range(n_layers):\n",
    "          x = self.lstm_layers[i](x)\n",
    "          x = self.dropout_layers[i](x)\n",
    "          \n",
    "        x = self.lstm_layers[-1](x)\n",
    "          \n",
    "        x = self.dense_layer(x)\n",
    "             \n",
    "        # Gán giá trị tầng cuối cùng vào out và trả về\n",
    "        out = x\n",
    "        \n",
    "        return out\n",
    "        ### END CODE HERE"
   ]
  },
  {
   "cell_type": "code",
   "execution_count": 13,
   "metadata": {},
   "outputs": [],
   "source": [
    "LSTM_UNITS = 128\n",
    "N_LAYERS = 2\n",
    "NUM_CLASSES = 2"
   ]
  },
  {
   "cell_type": "code",
   "execution_count": 14,
   "metadata": {},
   "outputs": [],
   "source": [
    "model = SentimentAnalysisModel(word_vectors, LSTM_UNITS, N_LAYERS, NUM_CLASSES)"
   ]
  },
  {
   "cell_type": "code",
   "execution_count": 15,
   "metadata": {},
   "outputs": [],
   "source": [
    "LEARNING_RATE = 0.001\n",
    "EPOCHS = 100"
   ]
  },
  {
   "cell_type": "code",
   "execution_count": 16,
   "metadata": {},
   "outputs": [],
   "source": [
    "import tensorflow.compat.v1 as tf\n",
    "optimizer = tf.train.AdamOptimizer(LEARNING_RATE)"
   ]
  },
  {
   "cell_type": "code",
   "execution_count": 17,
   "metadata": {},
   "outputs": [],
   "source": [
    "global_step = tf.train.get_or_create_global_step()\n",
    "# Thư mục chứa checkpoint\n",
    "checkpoint_dir = './model'\n",
    "# Mẫu tên checkpoint\n",
    "checkpoint_prefix = os.path.join(checkpoint_dir, \"ckpt_{score}\")"
   ]
  },
  {
   "cell_type": "code",
   "execution_count": 18,
   "metadata": {},
   "outputs": [],
   "source": [
    "from fastprogress import master_bar, progress_bar"
   ]
  },
  {
   "cell_type": "code",
   "execution_count": 19,
   "metadata": {},
   "outputs": [],
   "source": [
    "def epoch_training(model, dataset, global_step, mb, num_step):\n",
    "    \"\"\"\n",
    "    Huấn luyện mô hình qua 1 epoch\n",
    "    \n",
    "    Parameters\n",
    "    ----------\n",
    "    model: tf.keras.Model\n",
    "        model cần huấn luyện\n",
    "    dataset: tf.Dataset\n",
    "        dataset dùng để huấn luyện\n",
    "    global_step: global step \n",
    "    mb: fastprogress.master_bar\n",
    "        thanh biểu diễn tiến độ\n",
    "    num_step: int\n",
    "        số bước lặp trong mỗi epoch\n",
    "    Returns\n",
    "    -------\n",
    "    float\n",
    "        Giá trị loss trung bình của epoch\n",
    "    \"\"\"\n",
    "    train_losses = [] # Chứa giá trị loss của các batch\n",
    "    dataset_iter = iter(dataset)\n",
    "    for _ in progress_bar(range(num_step), parent=mb):\n",
    "        inp, target = next(dataset_iter)\n",
    "        \n",
    "        with tf.GradientTape() as tape:\n",
    "            ### TODO 4.1\n",
    "            # Truyền thuận - Feedforward\n",
    "            # Để tạo giá trị predictions\n",
    "            ### START CODE HERE\n",
    "            predictions = model(inp)\n",
    "            ### END CODE HERE\n",
    "            \n",
    "            ### TODO 4.2\n",
    "            # Sử dụng tf.losses.sparse_softmax_cross_entropy để tính loss\n",
    "            # Tham khảo: https://www.tensorflow.org/versions/r1.14/api_docs/python/tf/losses/sparse_softmax_cross_entropy\n",
    "            ### START CODE HERE\n",
    "            loss = tf.losses.sparse_softmax_cross_entropy(labels=target, logits=predictions)\n",
    "            ### END CODE HERE\n",
    "          \n",
    "            # Thêm loss của batch vào train_losses\n",
    "            train_losses.append(loss)\n",
    "            \n",
    "        \n",
    "        \n",
    "        ### TODO 4.3\n",
    "        #  Truyền ngược - Backprop: tính gradient của loss\n",
    "        # theo các tham số mô hình (model.trainable_variables)\n",
    "        # sử dụng tape.gradient\n",
    "        # Tham khảo: https://www.tensorflow.org/api_docs/python/tf/GradientTape#gradient\n",
    "        ### START CODE HERE\n",
    "        grads = tape.gradient(train_losses, model.trainable_variables)\n",
    "        ### END CODE HERE\n",
    "        \n",
    "        ### TODO 4.4\n",
    "        # Dùng gradient để tối ưu các tham số\n",
    "        # sử dụng optimizer.apply_gradients\n",
    "        # vd: optimizer.apply_gradients(zip(dloss_over_dvars, vars), global_step = global_step)\n",
    "        # LƯU Ý: Không cần gán giá trị của optimizer.apply_gradients cho biến\n",
    "        # Tham khảo: https://www.tensorflow.org/api_docs/python/tf/keras/optimizers/Optimizer#apply_gradients\n",
    "        ### START CODE HERE\n",
    "        optimizer.apply_gradients(zip(grads, model.trainable_variables), global_step=global_step)\n",
    "        ### END CODE HERE\n",
    "        \n",
    "        mb.child.comment = 'Train loss {:.4f}'.format(loss)\n",
    "        \n",
    "    # Trả về loss trung bình\n",
    "    return sum(train_losses)/ len(train_losses)"
   ]
  },
  {
   "cell_type": "code",
   "execution_count": 20,
   "metadata": {},
   "outputs": [],
   "source": [
    "def epoch_evaluation(model, dataset, mb, num_step):\n",
    "    \"\"\"\n",
    "    Đánh giá mô hình qua 1 epoch\n",
    "    \n",
    "    Parameters\n",
    "    ----------\n",
    "    model: tf.keras.Model\n",
    "        model cần đánh giá\n",
    "    dataset: tf.Dataset\n",
    "        dataset cần đánh giá\n",
    "    mb: fastprogress.master_bar\n",
    "        progess bar\n",
    "    num_step: int\n",
    "        số bước lặp trong mỗi epoch\n",
    "    Returns\n",
    "    -------\n",
    "    float\n",
    "        Giá trị loss trung bình của epoch\n",
    "    float\n",
    "        Giá trị F1-score trên tập validation\n",
    "    \"\"\"\n",
    "    val_losses = []   # Chứa giá trị loss của các batch\n",
    "    val_gt = []       # Chứa giá trị nhãn thật của tập validation , gt = groundtruth\n",
    "    val_pred = []     # Chứa giá trị nhãn dự đoán do model trên tập validation\n",
    "    dataset_iter = iter(dataset)\n",
    "    for _ in progress_bar(range(num_step), parent=mb):\n",
    "        inp, target = next(dataset_iter)\n",
    "        \n",
    "        val_gt.extend(target.numpy().astype(np.int32).tolist())\n",
    "        ### TODO 5.1\n",
    "        # Truyền thuận\n",
    "        # để lấy predictions\n",
    "        ### START CODE HERE\n",
    "        predictions = model(inp)\n",
    "        ### END CODE HERE\n",
    "        \n",
    "        ### TODO 5.2\n",
    "        # Tính loss giữa target và predictions\n",
    "        # sử dụng hàm loss sparse_softmax_cross_entropy\n",
    "        # như TODO 4.2\n",
    "        ### START CODE HERE\n",
    "        loss = tf.losses.sparse_softmax_cross_entropy(labels=target, logits=predictions)\n",
    "        ### END CODE HERE\n",
    "        \n",
    "        \n",
    "        # Thêm loss vào val_losses\n",
    "        val_losses.append(loss)\n",
    "        \n",
    "        val_pred.extend(tf.argmax(predictions,1).numpy().astype(np.int32).tolist())\n",
    "        \n",
    "        mb.child.comment = 'Validation loss {:.4f}'.format(loss)\n",
    "    \n",
    "    # Trả về loss trung bình và F1-score\n",
    "    return sum(val_losses)/ len(val_losses), f1_score(val_gt, val_pred)"
   ]
  },
  {
   "cell_type": "code",
   "execution_count": 21,
   "metadata": {},
   "outputs": [
    {
     "name": "stdout",
     "output_type": "stream",
     "text": [
      "Using GPU LSTM\n"
     ]
    }
   ],
   "source": [
    "\n",
    "if tf.test.is_gpu_available():\n",
    "    print('Using GPU LSTM')\n",
    "    lstm_layer = tf.keras.layers.CuDNNLSTM\n",
    "else:\n",
    "    print('Using CPU LSTM')\n",
    "    import functools\n",
    "    lstm_layer = functools.partial(\n",
    "            tf.keras.layers.LSTM, recurrent_activation='sigmoid')"
   ]
  },
  {
   "cell_type": "code",
   "execution_count": 22,
   "metadata": {},
   "outputs": [
    {
     "ename": "TypeError",
     "evalue": "call() missing 1 required positional argument: 'inputs'",
     "output_type": "error",
     "traceback": [
      "\u001b[0;31m---------------------------------------------------------------------------\u001b[0m",
      "\u001b[0;31mTypeError\u001b[0m                                 Traceback (most recent call last)",
      "\u001b[0;32m<ipython-input-22-f31a77ee5f9c>\u001b[0m in \u001b[0;36m<module>\u001b[0;34m\u001b[0m\n\u001b[0;32m----> 1\u001b[0;31m \u001b[0mmodel\u001b[0m\u001b[0;34m.\u001b[0m\u001b[0mcall\u001b[0m\u001b[0;34m(\u001b[0m\u001b[0;34m)\u001b[0m\u001b[0;34m\u001b[0m\u001b[0;34m\u001b[0m\u001b[0m\n\u001b[0m\u001b[1;32m      2\u001b[0m \u001b[0mmodel\u001b[0m\u001b[0;34m.\u001b[0m\u001b[0msummary\u001b[0m\u001b[0;34m(\u001b[0m\u001b[0;34m)\u001b[0m\u001b[0;34m\u001b[0m\u001b[0;34m\u001b[0m\u001b[0m\n",
      "\u001b[0;31mTypeError\u001b[0m: call() missing 1 required positional argument: 'inputs'"
     ]
    }
   ],
   "source": [
    "model.call()\n",
    "model.summary()"
   ]
  },
  {
   "cell_type": "code",
   "execution_count": 23,
   "metadata": {},
   "outputs": [
    {
     "data": {
      "text/html": [
       "\n",
       "    <div>\n",
       "        <style>\n",
       "            /* Turns off some styling */\n",
       "            progress {\n",
       "                /* gets rid of default border in Firefox and Opera. */\n",
       "                border: none;\n",
       "                /* Needs to be in here for Safari polyfill so background images work as expected. */\n",
       "                background-size: auto;\n",
       "            }\n",
       "            .progress-bar-interrupted, .progress-bar-interrupted::-webkit-progress-bar {\n",
       "                background: #F44336;\n",
       "            }\n",
       "        </style>\n",
       "      <progress value='51' class='' max='100' style='width:300px; height:20px; vertical-align: middle;'></progress>\n",
       "      51.00% [51/100 10:04<09:40]\n",
       "    </div>\n",
       "    \n",
       "Finish train epoch 0 with loss 0.6923<p>Finish validate epoch 0 with loss 0.6928, F1-score 0.6488<p>>>> Improved F1-score from 0.0000 to 0.6488<p>Finish train epoch 1 with loss 0.6928<p>Finish validate epoch 1 with loss 0.6979, F1-score 0.6537<p>>>> Improved F1-score from 0.6488 to 0.6537<p>Finish train epoch 2 with loss 0.6945<p>Finish validate epoch 2 with loss 0.6976, F1-score 0.6537<p>Finish train epoch 3 with loss 0.6937<p>Finish validate epoch 3 with loss 0.6974, F1-score 0.6537<p>Finish train epoch 4 with loss 0.6930<p>Finish validate epoch 4 with loss 0.6959, F1-score 0.6470<p>Finish train epoch 5 with loss 0.6921<p>Finish validate epoch 5 with loss 0.6950, F1-score 0.6471<p>Finish train epoch 6 with loss 0.6920<p>Finish validate epoch 6 with loss 0.6956, F1-score 0.6475<p>Finish train epoch 7 with loss 0.6919<p>Finish validate epoch 7 with loss 0.6953, F1-score 0.6458<p>Finish train epoch 8 with loss 0.6918<p>Finish validate epoch 8 with loss 0.6953, F1-score 0.6475<p>Finish train epoch 9 with loss 0.6915<p>Finish validate epoch 9 with loss 0.6943, F1-score 0.6474<p>Finish train epoch 10 with loss 0.6680<p>Finish validate epoch 10 with loss 0.6015, F1-score 0.6877<p>>>> Improved F1-score from 0.6537 to 0.6877<p>Finish train epoch 11 with loss 0.5669<p>Finish validate epoch 11 with loss 0.5110, F1-score 0.8093<p>>>> Improved F1-score from 0.6877 to 0.8093<p>Finish train epoch 12 with loss 0.5008<p>Finish validate epoch 12 with loss 0.4743, F1-score 0.8368<p>>>> Improved F1-score from 0.8093 to 0.8368<p>Finish train epoch 13 with loss 0.4820<p>Finish validate epoch 13 with loss 0.4652, F1-score 0.8334<p>Finish train epoch 14 with loss 0.4709<p>Finish validate epoch 14 with loss 0.4611, F1-score 0.8388<p>>>> Improved F1-score from 0.8368 to 0.8388<p>Finish train epoch 15 with loss 0.4605<p>Finish validate epoch 15 with loss 0.4589, F1-score 0.8381<p>Finish train epoch 16 with loss 0.4571<p>Finish validate epoch 16 with loss 0.4950, F1-score 0.7758<p>Finish train epoch 17 with loss 0.4578<p>Finish validate epoch 17 with loss 0.4527, F1-score 0.8616<p>>>> Improved F1-score from 0.8388 to 0.8616<p>Finish train epoch 18 with loss 0.4501<p>Finish validate epoch 18 with loss 0.4535, F1-score 0.8616<p>Finish train epoch 19 with loss 0.4472<p>Finish validate epoch 19 with loss 0.4641, F1-score 0.8541<p>Finish train epoch 20 with loss 0.4494<p>Finish validate epoch 20 with loss 0.4485, F1-score 0.8585<p>Finish train epoch 21 with loss 0.4387<p>Finish validate epoch 21 with loss 0.4557, F1-score 0.8503<p>Finish train epoch 22 with loss 0.4409<p>Finish validate epoch 22 with loss 0.4617, F1-score 0.8316<p>Finish train epoch 23 with loss 0.4326<p>Finish validate epoch 23 with loss 0.4518, F1-score 0.8501<p>Finish train epoch 24 with loss 0.4366<p>Finish validate epoch 24 with loss 0.4608, F1-score 0.8345<p>Finish train epoch 25 with loss 0.4334<p>Finish validate epoch 25 with loss 0.4424, F1-score 0.8650<p>>>> Improved F1-score from 0.8616 to 0.8650<p>Finish train epoch 26 with loss 0.4252<p>Finish validate epoch 26 with loss 0.4443, F1-score 0.8645<p>Finish train epoch 27 with loss 0.4241<p>Finish validate epoch 27 with loss 0.4411, F1-score 0.8676<p>>>> Improved F1-score from 0.8650 to 0.8676<p>Finish train epoch 28 with loss 0.4316<p>Finish validate epoch 28 with loss 0.4431, F1-score 0.8719<p>>>> Improved F1-score from 0.8676 to 0.8719<p>Finish train epoch 29 with loss 0.4292<p>Finish validate epoch 29 with loss 0.4391, F1-score 0.8687<p>Finish train epoch 30 with loss 0.4226<p>Finish validate epoch 30 with loss 0.4410, F1-score 0.8687<p>Finish train epoch 31 with loss 0.4248<p>Finish validate epoch 31 with loss 0.4390, F1-score 0.8675<p>Finish train epoch 32 with loss 0.4177<p>Finish validate epoch 32 with loss 0.4400, F1-score 0.8626<p>Finish train epoch 33 with loss 0.4186<p>Finish validate epoch 33 with loss 0.4438, F1-score 0.8561<p>Finish train epoch 34 with loss 0.4151<p>Finish validate epoch 34 with loss 0.4541, F1-score 0.8439<p>Finish train epoch 35 with loss 0.4212<p>Finish validate epoch 35 with loss 0.4356, F1-score 0.8753<p>>>> Improved F1-score from 0.8719 to 0.8753<p>Finish train epoch 36 with loss 0.4196<p>Finish validate epoch 36 with loss 0.4420, F1-score 0.8718<p>Finish train epoch 37 with loss 0.4141<p>Finish validate epoch 37 with loss 0.4413, F1-score 0.8735<p>Finish train epoch 38 with loss 0.4101<p>Finish validate epoch 38 with loss 0.4415, F1-score 0.8730<p>Finish train epoch 39 with loss 0.4067<p>Finish validate epoch 39 with loss 0.4420, F1-score 0.8731<p>Finish train epoch 40 with loss 0.4048<p>Finish validate epoch 40 with loss 0.4399, F1-score 0.8751<p>Finish train epoch 41 with loss 0.4052<p>Finish validate epoch 41 with loss 0.4347, F1-score 0.8790<p>>>> Improved F1-score from 0.8753 to 0.8790<p>Finish train epoch 42 with loss 0.4030<p>Finish validate epoch 42 with loss 0.4356, F1-score 0.8754<p>Finish train epoch 43 with loss 0.3994<p>Finish validate epoch 43 with loss 0.4349, F1-score 0.8778<p>Finish train epoch 44 with loss 0.4056<p>Finish validate epoch 44 with loss 0.4294, F1-score 0.8802<p>>>> Improved F1-score from 0.8790 to 0.8802<p>Finish train epoch 45 with loss 0.4014<p>Finish validate epoch 45 with loss 0.4336, F1-score 0.8783<p>Finish train epoch 46 with loss 0.4052<p>Finish validate epoch 46 with loss 0.4360, F1-score 0.8755<p>Finish train epoch 47 with loss 0.3997<p>Finish validate epoch 47 with loss 0.4354, F1-score 0.8741<p>Finish train epoch 48 with loss 0.3961<p>Finish validate epoch 48 with loss 0.4309, F1-score 0.8813<p>>>> Improved F1-score from 0.8802 to 0.8813<p>Finish train epoch 49 with loss 0.3961<p>Finish validate epoch 49 with loss 0.4354, F1-score 0.8747<p>Finish train epoch 50 with loss 0.3933<p>Finish validate epoch 50 with loss 0.4353, F1-score 0.8780<p>\n",
       "\n",
       "    <div>\n",
       "        <style>\n",
       "            /* Turns off some styling */\n",
       "            progress {\n",
       "                /* gets rid of default border in Firefox and Opera. */\n",
       "                border: none;\n",
       "                /* Needs to be in here for Safari polyfill so background images work as expected. */\n",
       "                background-size: auto;\n",
       "            }\n",
       "            .progress-bar-interrupted, .progress-bar-interrupted::-webkit-progress-bar {\n",
       "                background: #F44336;\n",
       "            }\n",
       "        </style>\n",
       "      <progress value='43' class='' max='85' style='width:300px; height:20px; vertical-align: middle;'></progress>\n",
       "      50.59% [43/85 00:05<00:05 Train loss 0.4279]\n",
       "    </div>\n",
       "    "
      ],
      "text/plain": [
       "<IPython.core.display.HTML object>"
      ]
     },
     "metadata": {},
     "output_type": "display_data"
    },
    {
     "data": {
      "image/png": "[encoded data removed]",
      "text/plain": [
       "<Figure size 432x288 with 1 Axes>"
      ]
     },
     "metadata": {},
     "output_type": "display_data"
    }
   ],
   "source": [
    "best_score = 0\n",
    "mb = master_bar(range(EPOCHS))\n",
    "mb.names = ['Training loss', 'Validation loss', 'F1']\n",
    "training_losses = []\n",
    "validation_losses = []\n",
    "f1_scores = []\n",
    "x = []\n",
    "\n",
    "train_step = math.ceil(len(train_x)*1.0/BATCH_SIZE)\n",
    "val_step = math.ceil(len(validation_x)*1.0/BATCH_SIZE)\n",
    "for epoch in mb:\n",
    "    \n",
    "    # initializing the hidden state at the start of every epoch\n",
    "    # initally hidden is None\n",
    "    hidden = model.reset_states()\n",
    "    x.append(epoch)\n",
    "    \n",
    "    ### TODO 6.1\n",
    "    # Huấn luyện bằng hàm epoch_training()\n",
    "    # Sử dụng tập train_dataset\n",
    "    ### START CODE HERE\n",
    "    training_loss = epoch_training(model, train_dataset, global_step, mb, train_step)\n",
    "    ### END CODE HERE\n",
    "    \n",
    "    # Báo cáo kết quả train/huấn luyện\n",
    "    mb.write('Finish train epoch {} with loss {:.4f}'.format(epoch, training_loss))\n",
    "    training_losses.append(training_loss)\n",
    "    \n",
    "    ### TODO 6.2\n",
    "    # Đánh giá kết quả trên tập validation_dataset\n",
    "    # bằng hàm epoch_evaluation()\n",
    "    ### START CODE HERE\n",
    "    \n",
    "    valid_loss, valid_score = epoch_evaluation(model, validation_dataset, mb, val_step)\n",
    "    ### END CODE HERE\n",
    "    \n",
    "    # Báo cáo kết quả validate\n",
    "    mb.write('Finish validate epoch {} with loss {:.4f}, F1-score {:.4f}'.format(epoch,valid_loss, valid_score))\n",
    "    validation_losses.append(valid_loss)\n",
    "    f1_scores.append(valid_score)\n",
    "    \n",
    "    # Cập nhật đồ thị\n",
    "    global_step.assign_add(1)\n",
    "    mb.update_graph([[x, training_losses], [x, validation_losses], [x, f1_scores]], [0,EPOCHS], [0,1])\n",
    "    \n",
    "    # Update score và lưu model có score tốt nhất\n",
    "    if best_score < valid_score:\n",
    "        mb.write(\">>> Improved F1-score from {:.4f} to {:.4f}\".format(best_score, valid_score))\n",
    "        # Update best_score\n",
    "        best_score = valid_score\n",
    "        # Save model\n",
    "        model.save_weights(checkpoint_prefix.format(score=valid_score))"
   ]
  },
  {
   "cell_type": "code",
   "execution_count": 24,
   "metadata": {},
   "outputs": [
    {
     "name": "stdout",
     "output_type": "stream",
     "text": [
      "Model: \"sentiment_analysis\"\n",
      "_________________________________________________________________\n",
      "Layer (type)                 Output Shape              Param #   \n",
      "=================================================================\n",
      "lstm (LSTM)                  multiple                  219648    \n",
      "_________________________________________________________________\n",
      "lstm_1 (LSTM)                multiple                  131584    \n",
      "_________________________________________________________________\n",
      "lstm_2 (LSTM)                multiple                  131584    \n",
      "_________________________________________________________________\n",
      "dropout (Dropout)            multiple                  0         \n",
      "_________________________________________________________________\n",
      "dropout_1 (Dropout)          multiple                  0         \n",
      "_________________________________________________________________\n",
      "dense (Dense)                multiple                  258       \n",
      "=================================================================\n",
      "Total params: 483,074\n",
      "Trainable params: 483,074\n",
      "Non-trainable params: 0\n",
      "_________________________________________________________________\n"
     ]
    }
   ],
   "source": [
    "model.summary()"
   ]
  }
 ],
 "metadata": {
  "kernelspec": {
   "display_name": "Python 3",
   "language": "python",
   "name": "python3"
  },
  "language_info": {
   "codemirror_mode": {
    "name": "ipython",
    "version": 3
   },
   "file_extension": ".py",
   "mimetype": "text/x-python",
   "name": "python",
   "nbconvert_exporter": "python",
   "pygments_lexer": "ipython3",
   "version": "3.6.6"
  }
 },
 "nbformat": 4,
 "nbformat_minor": 4
}
